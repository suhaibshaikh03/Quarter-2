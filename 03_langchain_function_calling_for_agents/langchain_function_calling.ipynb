{
  "nbformat": 4,
  "nbformat_minor": 0,
  "metadata": {
    "colab": {
      "provenance": []
    },
    "kernelspec": {
      "name": "python3",
      "display_name": "Python 3"
    },
    "language_info": {
      "name": "python"
    }
  },
  "cells": [
    {
      "cell_type": "code",
      "source": [
        "%pip install -qU langchain_google_genai langchain_core"
      ],
      "metadata": {
        "id": "3cHBSIifMvUX"
      },
      "execution_count": 8,
      "outputs": []
    },
    {
      "cell_type": "code",
      "execution_count": 11,
      "metadata": {
        "colab": {
          "base_uri": "https://localhost:8080/"
        },
        "id": "vIDOcuWDm_nI",
        "outputId": "b54ed2d5-61ab-4032-dfeb-00e1f207a7dc"
      },
      "outputs": [
        {
          "output_type": "execute_result",
          "data": {
            "text/plain": [
              "AIMessage(content='Hi there! How can I help you today?', additional_kwargs={}, response_metadata={'prompt_feedback': {'block_reason': 0, 'safety_ratings': []}, 'finish_reason': 'STOP', 'safety_ratings': []}, id='run-6fceb0eb-ce12-4977-96ae-7b321a3a561d-0', usage_metadata={'input_tokens': 2, 'output_tokens': 11, 'total_tokens': 13, 'input_token_details': {'cache_read': 0}})"
            ]
          },
          "metadata": {},
          "execution_count": 11
        }
      ],
      "source": [
        "from langchain_core.messages import AIMessage, HumanMessage, SystemMessage\n",
        "from langchain_core.tools import tool\n",
        "from google.colab import userdata\n",
        "from pprint import pprint\n",
        "from langchain_google_genai import ChatGoogleGenerativeAI\n",
        "\n",
        "llm : ChatGoogleGenerativeAI = ChatGoogleGenerativeAI(api_key=userdata.get('GOOGLE_API_KEY'),\n",
        "                                                      model = \"gemini-1.5-pro\",\n",
        "                                                      temperature = 0,\n",
        "                                                      )\n",
        "\n"
      ]
    },
    {
      "cell_type": "code",
      "source": [
        "def add(num1: int , num2: int)->int:\n",
        "    \"\"\"\n",
        "    Adds two numbers together\n",
        "    num1: The first number to add\n",
        "    num2: The second number to add\n",
        "\n",
        "\n",
        "    \"\"\"\n",
        "    return num1 + num2"
      ],
      "metadata": {
        "id": "XrVwHmi2PiMm"
      },
      "execution_count": 13,
      "outputs": []
    },
    {
      "cell_type": "code",
      "source": [
        "def multiply(num1: int , num2: int)->int:\n",
        "  \"\"\"\n",
        "  Multilies two numbers together\n",
        "  num1: The first number to multiply\n",
        "  num2: The second number to multiply\n",
        "  \"\"\"\n",
        "  return num1 * num2\n",
        ""
      ],
      "metadata": {
        "id": "VC2g6KGsPnfM"
      },
      "execution_count": 14,
      "outputs": []
    },
    {
      "cell_type": "code",
      "source": [
        "list_of_tools : list[tool] = [add, multiply]\n",
        ""
      ],
      "metadata": {
        "id": "t2DL3CG3QIkE"
      },
      "execution_count": 15,
      "outputs": []
    },
    {
      "cell_type": "code",
      "source": [
        "llm_with_tools = llm.bind_tools(list_of_tools)\n"
      ],
      "metadata": {
        "id": "Z9mB8cnJQFiX"
      },
      "execution_count": 16,
      "outputs": []
    },
    {
      "cell_type": "code",
      "source": [
        "response = llm_with_tools.invoke(\"add 3 and 4\")"
      ],
      "metadata": {
        "id": "txfP8N8KQbYR"
      },
      "execution_count": 18,
      "outputs": []
    },
    {
      "cell_type": "code",
      "source": [
        "response"
      ],
      "metadata": {
        "colab": {
          "base_uri": "https://localhost:8080/"
        },
        "id": "oAetBdupQvGf",
        "outputId": "4720c7fa-a6f2-4f97-e351-147256f933cd"
      },
      "execution_count": 21,
      "outputs": [
        {
          "output_type": "execute_result",
          "data": {
            "text/plain": [
              "AIMessage(content='', additional_kwargs={'function_call': {'name': 'add', 'arguments': '{\"num2\": 4.0, \"num1\": 3.0}'}}, response_metadata={'prompt_feedback': {'block_reason': 0, 'safety_ratings': []}, 'finish_reason': 'STOP', 'safety_ratings': []}, id='run-8357a505-e6ad-473e-8e67-c419a11a5a9d-0', tool_calls=[{'name': 'add', 'args': {'num2': 4.0, 'num1': 3.0}, 'id': '07d9bdf1-1d1e-4740-9b13-c8465590122e', 'type': 'tool_call'}], usage_metadata={'input_tokens': 142, 'output_tokens': 5, 'total_tokens': 147, 'input_token_details': {'cache_read': 0}})"
            ]
          },
          "metadata": {},
          "execution_count": 21
        }
      ]
    },
    {
      "cell_type": "code",
      "source": [
        "response.additional_kwargs[\"function_call\"]"
      ],
      "metadata": {
        "colab": {
          "base_uri": "https://localhost:8080/"
        },
        "id": "FPyll8EbQlGA",
        "outputId": "55be0863-7f56-4fec-b905-ca9198dbcc1f"
      },
      "execution_count": 20,
      "outputs": [
        {
          "output_type": "execute_result",
          "data": {
            "text/plain": [
              "{'name': 'add', 'arguments': '{\"num2\": 4.0, \"num1\": 3.0}'}"
            ]
          },
          "metadata": {},
          "execution_count": 20
        }
      ]
    },
    {
      "cell_type": "code",
      "source": [
        "response1 = llm_with_tools.invoke(\"multiply 3 and 4\")"
      ],
      "metadata": {
        "id": "pSzwxYISQypL"
      },
      "execution_count": 24,
      "outputs": []
    },
    {
      "cell_type": "code",
      "source": [
        "response1"
      ],
      "metadata": {
        "colab": {
          "base_uri": "https://localhost:8080/"
        },
        "id": "d9L_g1olQ61F",
        "outputId": "63781849-7ec0-4856-926c-8750cdb6e950"
      },
      "execution_count": 25,
      "outputs": [
        {
          "output_type": "execute_result",
          "data": {
            "text/plain": [
              "AIMessage(content='', additional_kwargs={'function_call': {'name': 'multiply', 'arguments': '{\"num2\": 4.0, \"num1\": 3.0}'}}, response_metadata={'prompt_feedback': {'block_reason': 0, 'safety_ratings': []}, 'finish_reason': 'STOP', 'safety_ratings': []}, id='run-4ade6daa-a147-45df-833b-0350664f5989-0', tool_calls=[{'name': 'multiply', 'args': {'num2': 4.0, 'num1': 3.0}, 'id': 'a998f5aa-1e43-4328-9ec0-eb92616501a2', 'type': 'tool_call'}], usage_metadata={'input_tokens': 142, 'output_tokens': 5, 'total_tokens': 147, 'input_token_details': {'cache_read': 0}})"
            ]
          },
          "metadata": {},
          "execution_count": 25
        }
      ]
    },
    {
      "cell_type": "code",
      "source": [
        "response1.additional_kwargs[\"function_call\"]"
      ],
      "metadata": {
        "colab": {
          "base_uri": "https://localhost:8080/"
        },
        "id": "E2mZJqmgROyl",
        "outputId": "9872d0b9-badd-4a0f-af32-d95a270b2ed1"
      },
      "execution_count": 26,
      "outputs": [
        {
          "output_type": "execute_result",
          "data": {
            "text/plain": [
              "{'name': 'multiply', 'arguments': '{\"num2\": 4.0, \"num1\": 3.0}'}"
            ]
          },
          "metadata": {},
          "execution_count": 26
        }
      ]
    }
  ]
}